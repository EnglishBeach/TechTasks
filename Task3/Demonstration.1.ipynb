{
 "cells": [
  {
   "cell_type": "code",
   "execution_count": 1,
   "metadata": {},
   "outputs": [],
   "source": [
    "from typing import NamedTuple\n",
    "\n",
    "import cv2\n",
    "import matplotlib\n",
    "import matplotlib.pyplot as plt\n",
    "import numpy as np\n",
    "\n",
    "plt.rcParams[\"figure.figsize\"] = (10, 7)\n",
    "plt.rcParams['figure.subplot.left'] = 0.1\n",
    "plt.rcParams['figure.subplot.right'] = 0.99\n",
    "plt.rcParams['figure.subplot.top'] = 0.97\n",
    "plt.rcParams['figure.subplot.bottom'] = 0.05\n",
    "plt.rcParams['figure.subplot.hspace'] = 0.3\n",
    "matplotlib.rc(\"image\", cmap=\"gray_r\")"
   ]
  },
  {
   "cell_type": "code",
   "execution_count": 2,
   "metadata": {},
   "outputs": [],
   "source": [
    "%matplotlib qt"
   ]
  },
  {
   "cell_type": "code",
   "execution_count": 4,
   "metadata": {},
   "outputs": [
    {
     "data": {
      "text/plain": [
       "<matplotlib.image.AxesImage at 0x26c912fdea0>"
      ]
     },
     "execution_count": 4,
     "metadata": {},
     "output_type": "execute_result"
    }
   ],
   "source": [
    "img_real = cv2.imread(r\"DocData\\2.jpg\")\n",
    "y, x, _ = img_real.shape\n",
    "plt.imshow(img_real)"
   ]
  },
  {
   "cell_type": "markdown",
   "metadata": {},
   "source": [
    "# Prepare"
   ]
  },
  {
   "cell_type": "code",
   "execution_count": 5,
   "metadata": {},
   "outputs": [],
   "source": [
    "def show(image: np.ndarray):\n",
    "    dy, dx = image.shape[:2]\n",
    "    y_size = 960\n",
    "    size = (int(dx * y_size / dy), y_size)\n",
    "\n",
    "    cv2.imshow('contours', cv2.resize(image, size))\n",
    "    cv2.resizeWindow('contours', *size)\n",
    "\n",
    "    cv2.waitKey()\n",
    "\n",
    "\n",
    "def downscale_image(image: np.ndarray, max_size=2048) -> np.ndarray:\n",
    "    \"\"\"\n",
    "    Downscale image\n",
    "\n",
    "    :param image: Input image\n",
    "    :param max_size: Maxi size, defaults to 2048\n",
    "    :return: Downscaled image\n",
    "    \"\"\"\n",
    "\n",
    "    if max_size <= max_size:\n",
    "        return image\n",
    "\n",
    "    scale = max_size / max(image.shape)\n",
    "    return cv2.resize(image, None, fx=scale, fy=scale, interpolation=cv2.INTER_CUBIC)\n",
    "\n",
    "\n",
    "def make_square(image):\n",
    "    y, x = image.shape[:2]\n",
    "    max_side = max(y, x)\n",
    "\n",
    "    dy = max_side - y\n",
    "    dx = max_side - x\n",
    "\n",
    "    top = dy // 2\n",
    "    bottom = dy - top\n",
    "    left = dx // 2\n",
    "    right = dx - left\n",
    "    return cv2.copyMakeBorder(image, top, bottom, left, right, cv2.BORDER_CONSTANT, value=[0, 0, 0])\n",
    "\n",
    "\n",
    "def align(image):\n",
    "    image_processed = cv2.Canny(image, 100, 200)\n",
    "    kernel = cv2.getStructuringElement(cv2.MORPH_RECT, (5, 5))\n",
    "    image_processed = cv2.dilate(image_processed, kernel, iterations=2)\n",
    "    plt.imshow(image_processed)\n",
    "    non_zero_coordinates = cv2.findNonZero(image_processed)\n",
    "    box = cv2.minAreaRect(non_zero_coordinates)\n",
    "    (x, y), angle = box[1:]\n",
    "    if (-5 < angle < 5) or (90 - 5 < angle < 90 + 5) or (angle < -90 + 5):\n",
    "        return image\n",
    "\n",
    "    y, x = image.shape\n",
    "    rotate_M = cv2.getRotationMatrix2D((x // 2, y // 2), angle, 1)\n",
    "    return cv2.warpAffine(\n",
    "        image.copy(),\n",
    "        rotate_M,\n",
    "        (int(x), int(y)),\n",
    "        cv2.INTER_CUBIC,\n",
    "        cv2.BORDER_REPLICATE,\n",
    "    )"
   ]
  },
  {
   "cell_type": "code",
   "execution_count": 6,
   "metadata": {},
   "outputs": [
    {
     "data": {
      "text/plain": [
       "<matplotlib.image.AxesImage at 0x26c929aa9b0>"
      ]
     },
     "execution_count": 6,
     "metadata": {},
     "output_type": "execute_result"
    }
   ],
   "source": [
    "img_gray = cv2.cvtColor(img_real, cv2.COLOR_BGR2GRAY)\n",
    "img_gray = cv2.threshold(img_gray, 0, 255, cv2.THRESH_BINARY_INV | cv2.THRESH_OTSU)[1]\n",
    "img_gray = downscale_image(img_gray)\n",
    "border_add = 10\n",
    "img_gray = cv2.copyMakeBorder(\n",
    "    img_gray,\n",
    "    border_add,\n",
    "    border_add,\n",
    "    border_add,\n",
    "    border_add,\n",
    "    cv2.BORDER_CONSTANT,\n",
    "    value=[0, 0, 0],\n",
    ")\n",
    "img_gray = make_square(img_gray)\n",
    "\n",
    "\n",
    "#  rotate_M = cv2.getRotationMatrix2D((x // 2, y // 2), angle, 1)\n",
    "#     cv2.warpAffine(\n",
    "#         image.copy(),\n",
    "#         rotate_M,\n",
    "#         (int(x), int(y)),\n",
    "#         cv2.INTER_CUBIC,\n",
    "#         cv2.BORDER_REPLICATE,\n",
    "#     )\n",
    "# img_gray = align(img_gray)\n",
    "plt.imshow(img_gray)"
   ]
  },
  {
   "cell_type": "markdown",
   "metadata": {},
   "source": [
    "# Clasterization"
   ]
  },
  {
   "cell_type": "code",
   "execution_count": 7,
   "metadata": {},
   "outputs": [],
   "source": [
    "class BoxProperties(NamedTuple):\n",
    "    \"\"\"Box parameters: x,y x1,y1\"\"\"\n",
    "\n",
    "    x0: int\n",
    "    y0: int\n",
    "    x1: int\n",
    "    y1: int\n",
    "\n",
    "\n",
    "def get_mask_map(image: np.ndarray) -> tuple[dict[int, np.ndarray], list[int]]:\n",
    "    \"\"\"\n",
    "    Return separate text area masks on image\n",
    "\n",
    "    :param image: Image to analyse separate text blocks\n",
    "    :return: List of text area masks in the order of their power\n",
    "    \"\"\"\n",
    "    img = cv2.GaussianBlur(image, (9, 9), 2)\n",
    "    kernel = cv2.getStructuringElement(cv2.MORPH_RECT, (3, 3))\n",
    "    img = cv2.dilate(img, kernel, iterations=1)\n",
    "    n_rectangles, segmented_img = cv2.connectedComponents(img)\n",
    "\n",
    "    types_map = {i: np.uint8(segmented_img == i) * i for i in range(1, n_rectangles + 1)}\n",
    "\n",
    "    type_list = sorted(\n",
    "        list(range(1, n_rectangles + 1)),\n",
    "        key=lambda i: np.count_nonzero(types_map[i]),\n",
    "        reverse=True,\n",
    "    )\n",
    "    return types_map, type_list\n",
    "\n",
    "\n",
    "class AttentionArea:\n",
    "    \"\"\"Find another blocks around attention area\"\"\"\n",
    "\n",
    "    border_scale = 0.02\n",
    "    \"\"\"Border thickness proporitonal image size\"\"\"\n",
    "\n",
    "    def __init__(self, attention_mask: np.ndarray, image: np.ndarray) -> None:\n",
    "        \"\"\"\n",
    "        Create attention area around attention_mask\n",
    "\n",
    "        :param attention_mask: Used mask to look around\n",
    "        :param image: Full image\n",
    "        \"\"\"\n",
    "\n",
    "        non_zero_coords = cv2.findNonZero(attention_mask)\n",
    "        x, y, dx, dy = cv2.boundingRect(non_zero_coords)\n",
    "        self.focus_box = BoxProperties(x, y, x + dx, y + dy)\n",
    "\n",
    "        y_full, x_full = image.shape\n",
    "        y_border = int(y_full * self.border_scale)\n",
    "        x_border = int(x_full * self.border_scale)\n",
    "        self.window_box = BoxProperties(\n",
    "            max(x - x_border, 0),\n",
    "            max(y - y_border, 0),\n",
    "            min(x + dx + x_border, x_full),\n",
    "            min(y + dy + y_border, y_full),\n",
    "        )\n",
    "\n",
    "        self.focus = attention_mask.copy()\n",
    "        window_slice = (\n",
    "            slice(self.window_box.y0, self.window_box.y1),\n",
    "            slice(self.window_box.x0, self.window_box.x1),\n",
    "        )\n",
    "        self.window = np.zeros_like(image)\n",
    "        self.window[window_slice] = image[window_slice].copy()\n",
    "\n",
    "    @property\n",
    "    def F1_metric(self) -> float:\n",
    "        \"\"\"F1 metric for a clasterisation quality\"\"\"\n",
    "        window_slice = (\n",
    "            slice(self.window_box.y0, self.window_box.y1),\n",
    "            slice(self.window_box.x0, self.window_box.x1),\n",
    "        )\n",
    "\n",
    "        focus = self.focus[window_slice].copy()\n",
    "        focus[focus != 0] = 1\n",
    "\n",
    "        window = self.window[window_slice].copy()\n",
    "        window[window != 0] = 1\n",
    "\n",
    "        dy, dx = focus.shape\n",
    "\n",
    "        tp = np.count_nonzero(focus)\n",
    "        fp = dx * dy\n",
    "        fn = np.count_nonzero(window - focus)\n",
    "        return 2 * tp / (2 * tp + fp + fn)\n",
    "\n",
    "    def get_periphery_types(self):\n",
    "        rule_func = lambda i: np.count_nonzero(\n",
    "            self.focus[self.focus == i] * 1,\n",
    "        ) + np.count_nonzero(\n",
    "            self.window[self.window == i] * 1,\n",
    "        )\n",
    "\n",
    "        return sorted(\n",
    "            set(np.unique(self.window)) - set(np.unique(self.focus)),\n",
    "            key=rule_func,\n",
    "            reverse=False,\n",
    "        )"
   ]
  },
  {
   "cell_type": "code",
   "execution_count": 11,
   "metadata": {},
   "outputs": [
    {
     "data": {
      "text/plain": [
       "<matplotlib.image.AxesImage at 0x26c9aae3a90>"
      ]
     },
     "execution_count": 11,
     "metadata": {},
     "output_type": "execute_result"
    }
   ],
   "source": [
    "img_processed = cv2.GaussianBlur(img_gray, (3, 3), 5)\n",
    "img_processed = cv2.Canny(img_processed, 100, 200)\n",
    "mask_map, mask_types = get_mask_map(img_processed)\n",
    "typed_mask = sum(mask_map.values())\n",
    "\n",
    "clasters = []\n",
    "while len(mask_types):\n",
    "    central_type = mask_types.pop(0)\n",
    "    area = AttentionArea(mask_map[central_type], typed_mask)\n",
    "\n",
    "    periphery_types = area.get_periphery_types()\n",
    "\n",
    "    while len(periphery_types):\n",
    "        periphery_type = periphery_types.pop(0)\n",
    "        new_area = AttentionArea(area.focus + mask_map[periphery_type], typed_mask)\n",
    "\n",
    "        add_img = sum([mask_map[i] for i in area.get_periphery_types()])\n",
    "        show_img = cv2.bitwise_not(\n",
    "            np.sign(area.focus) * 200\n",
    "            + np.sign(mask_map[periphery_type]) * 50\n",
    "            + np.sign(add_img) * 15\n",
    "        )\n",
    "        cv2.rectangle(\n",
    "            show_img,\n",
    "            (area.window_box.x0, area.window_box.y0),\n",
    "            (area.window_box.x1, area.window_box.y1),\n",
    "            200,\n",
    "            2,\n",
    "        )\n",
    "        cv2.rectangle(\n",
    "            show_img,\n",
    "            (area.focus_box.x0, area.focus_box.y0),\n",
    "            (area.focus_box.x1, area.focus_box.y1),\n",
    "            200,\n",
    "            2,\n",
    "        )\n",
    "\n",
    "        dy, dx = show_img.shape[:2]\n",
    "        y_size = 960\n",
    "        size = (int(dx * y_size / dy), y_size)\n",
    "\n",
    "        cv2.imshow('contours', cv2.resize(show_img, size))\n",
    "        cv2.resizeWindow('contours', *size)\n",
    "\n",
    "        cv2.waitKey()\n",
    "\n",
    "        if (new_area.F1_metric < area.F1_metric * 0.9) or (periphery_type not in mask_types):\n",
    "            continue\n",
    "\n",
    "        area = new_area\n",
    "        periphery_types = area.get_periphery_types()\n",
    "        mask_types.remove(periphery_type)\n",
    "\n",
    "    claster = np.sign(area.focus) * (len(clasters) + 1)\n",
    "    kernel = cv2.getStructuringElement(cv2.MORPH_RECT, (3, 3))\n",
    "    claster = cv2.dilate(claster, kernel, iterations=5)\n",
    "    clasters.append(claster)\n",
    "\n",
    "cv2.destroyAllWindows()\n",
    "\n",
    "plt.imshow(sum(clasters))"
   ]
  },
  {
   "cell_type": "code",
   "execution_count": null,
   "metadata": {},
   "outputs": [],
   "source": [
    "plt.imshow(sum(clasters))"
   ]
  },
  {
   "cell_type": "markdown",
   "metadata": {},
   "source": [
    "# Recognize"
   ]
  },
  {
   "cell_type": "code",
   "execution_count": 12,
   "metadata": {},
   "outputs": [],
   "source": [
    "from pyaspeller import YandexSpeller\n",
    "import pytesseract"
   ]
  },
  {
   "cell_type": "code",
   "execution_count": 33,
   "metadata": {},
   "outputs": [],
   "source": [
    "speller = YandexSpeller()"
   ]
  },
  {
   "cell_type": "code",
   "execution_count": 31,
   "metadata": {},
   "outputs": [],
   "source": [
    "a= AttentionArea(image=img_gray,attention_mask=clasters[1])\n",
    "img_cropped = img_gray[a.focus_box.y0:a.focus_box.y1,a.focus_box.x0:a.focus_box.x1]"
   ]
  },
  {
   "cell_type": "code",
   "execution_count": 47,
   "metadata": {},
   "outputs": [],
   "source": [
    "\n",
    "def align2(image):\n",
    "    image_processed = cv2.Canny(image, 100, 200)\n",
    "    kernel = cv2.getStructuringElement(cv2.MORPH_RECT, (5, 5))\n",
    "    image_processed = cv2.dilate(image_processed, kernel, iterations=2)\n",
    "    # plt.imshow(image_processed)\n",
    "    non_zero_coordinates = cv2.findNonZero(image_processed)\n",
    "    box = cv2.minAreaRect(non_zero_coordinates)\n",
    "    (x, y), angle = box[1:]\n",
    "    # if (-5 < angle < 5) or (90 - 5 < angle < 90 + 5) or (angle < -90 + 5):\n",
    "    #     return image\n",
    "\n",
    "    y, x = image.shape\n",
    "    rotate_M = cv2.getRotationMatrix2D((x // 2, y // 2), angle-90, 1)\n",
    "    return cv2.warpAffine(\n",
    "        image.copy(),\n",
    "        rotate_M,\n",
    "        (int(x), int(y)),\n",
    "        cv2.INTER_CUBIC,\n",
    "        cv2.BORDER_REPLICATE,\n",
    "    )"
   ]
  },
  {
   "cell_type": "code",
   "execution_count": 48,
   "metadata": {},
   "outputs": [
    {
     "name": "stdout",
     "output_type": "stream",
     "text": [
      "В Строй Орнсте мы оформлялн сертификат 150 9001 для участия в\n",
      "тендере. Нас сразу привлекла стоямость в 19 тысяч рублей. И срочность:\n",
      "оформлекия сертификата, так как срохи у нас «горели». По телефону:\n",
      "получили грамотную консультецк по 15 и скан документа был у нас в\n",
      "ээтот же день. В результате тендер мы вынграли и успешно работзем.\n",
      "Спасибо СтройЮрнст, за качественную работу!\n",
      "\n",
      "**************************************************\n",
      "В Строй Орнсте мы оформляли сертификат 150 9001 для участия в\n",
      "тендере. Нас сразу привлекла стоимость в 19 тысяч рублей. И срочность:\n",
      "оформлекия сертификата, так как срохи у нас «горели». По телефону:\n",
      "получили грамотную консультацию по 15 и скан документа был у нас в\n",
      "этот же день. В результате тендер мы выиграли и успешно работаем.\n",
      "Спасибо Стройюрист, за качественную работу!\n",
      "\n"
     ]
    }
   ],
   "source": [
    "# img_cropped = cv2.bitwise_and(img_gray, img_gray, mask=clasters[1])\n",
    "plt.imshow(align2(img_cropped))\n",
    "text = pytesseract.image_to_string(\n",
    "    align2(img_cropped),\n",
    "    lang='rus',\n",
    "    config='--psm 3',\n",
    ")\n",
    "print(text)\n",
    "print('*' * 50)\n",
    "print(speller.spelled(text))"
   ]
  },
  {
   "cell_type": "code",
   "execution_count": 35,
   "metadata": {},
   "outputs": [
    {
     "data": {
      "text/plain": [
       "'В Строй!Эрнсте мы оформляли сертификат 15О 9001 ana участия в\\nтендере. Hac сразу привлекла cromMocts в 19 тысяч рублей. И прочность\\n‘оформяения сертнфиката, Tax как срокн у нас «горелн». ЛЮ телефону\\nполучили грамотную консультацию по TSO и ская документа был у HBC в\\n‘ToT же день, В результате тендер мы выиграли H успещно работаем.\\nСпасибо СтройЮрнся, за качественную работу?\\n\\n'"
      ]
     },
     "execution_count": 35,
     "metadata": {},
     "output_type": "execute_result"
    }
   ],
   "source": []
  },
  {
   "cell_type": "code",
   "execution_count": 17,
   "metadata": {},
   "outputs": [],
   "source": [
    "class RecognizeResult(NamedTuple):\n",
    "    text: str\n",
    "    angle: int\n",
    "    x: int\n",
    "    y: int\n",
    "    dx: int\n",
    "    dy: int\n",
    "\n",
    "\n",
    "res = []\n",
    "for img_mask in clasters:\n",
    "\n",
    "    img_cropped = cv2.bitwise_and(img_gray, img_gray, mask=img_mask)\n",
    "    non_zero_coords = cv2.findNonZero(img_mask)\n",
    "    box_cordinates = cv2.boundingRect(non_zero_coords)\n",
    "\n",
    "    # plt.imshow(img_cropped)\n",
    "\n",
    "    for angle in [0, -90, 90, 180]:\n",
    "        text = pytesseract.image_to_string(img_cropped, lang='rus+eng', config='--psm 3')\n",
    "        text = speller.spelled(text)\n",
    "        is_correct = angle == 180\n",
    "        text = text + '\\n'\n",
    "        if len(text) and is_correct:\n",
    "            res.append(RecognizeResult(text, angle, *box_cordinates))\n",
    "            break"
   ]
  },
  {
   "cell_type": "code",
   "execution_count": 18,
   "metadata": {},
   "outputs": [],
   "source": [
    "angles = [i.angle for i in res]\n",
    "general_angle = max(set(angles), key=angles.count)\n",
    "slope = 2\n",
    "metric = {\n",
    "    0: lambda f: f. x + slope * f.y,\n",
    "    -90: lambda f: slope * f.x - (f.y + f.dy),\n",
    "    90: lambda f: -slope * (f.x + f.dx) + f.y,\n",
    "    180: lambda f: -(f.x + f.dx) - slope * (f.y + f.dy),\n",
    "}[general_angle]"
   ]
  },
  {
   "cell_type": "code",
   "execution_count": 19,
   "metadata": {},
   "outputs": [
    {
     "name": "stdout",
     "output_type": "stream",
     "text": [
      "С уважением,\n",
      "Директор.\n",
      "\n",
      "(000 «ТК Esporpy: Белов B.A.\n",
      "\n",
      "\n",
      " В Строй!Эрнсте мы оформляли сертификат 15О 9001 ana участия в\n",
      "тендере. Hac сразу привлекла cromMocts в 19 тысяч рублей. И прочность\n",
      "‘оформяения сертнфиката, Tax как срокн у нас «горелн». ЛЮ телефону\n",
      "получили грамотную консультацию по TSO и ская документа был у HBC в\n",
      "‘ToT же день, В результате тендер мы выиграли H успещно работаем.\n",
      "Спасибо СтройЮрнся, за качественную работу?\n",
      "\n",
      "\n",
      " \n",
      " \n",
      " отзыВ\n",
      "\n",
      " ©ОО«СтройЮрист»\n",
      "\n",
      " Еврогрупп Общество с ограниченной ответственностью.\n",
      "\n",
      "«Торговая Компания «ЕвроГруп»\n",
      "ол cht ooropon, yr Борска 17 HHEUKTINS296124400525601001,\n",
      "‘orpniis256b0243) OKT1O82570408, ONO «НБД-Банко г.Н- Hoaropen, GHKDAZ202205,\n",
      "‘panto eert0702810901050022597, Koprower3010181 0400000000705,\n",
      "‘E-mail: gyrogrupS2@mail пуТелефонифанс: $ ($31) 253-98-60,253-37-91\n",
      "\n",
      " 2 364 от « 28» мая 2015 г\n",
      "\n",
      " \n",
      " \n",
      "\n"
     ]
    }
   ],
   "source": [
    "print(' '.join([i.text for i in sorted(res, key=metric)]))"
   ]
  },
  {
   "cell_type": "code",
   "execution_count": 20,
   "metadata": {},
   "outputs": [
    {
     "data": {
      "text/plain": [
       "<matplotlib.image.AxesImage at 0x26c91141e10>"
      ]
     },
     "execution_count": 20,
     "metadata": {},
     "output_type": "execute_result"
    }
   ],
   "source": [
    "plt.imshow(img_gray)"
   ]
  }
 ],
 "metadata": {
  "kernelspec": {
   "display_name": "Agat_env",
   "language": "python",
   "name": "python3"
  },
  "language_info": {
   "codemirror_mode": {
    "name": "ipython",
    "version": 3
   },
   "file_extension": ".py",
   "mimetype": "text/x-python",
   "name": "python",
   "nbconvert_exporter": "python",
   "pygments_lexer": "ipython3",
   "version": "3.10.11"
  }
 },
 "nbformat": 4,
 "nbformat_minor": 2
}
