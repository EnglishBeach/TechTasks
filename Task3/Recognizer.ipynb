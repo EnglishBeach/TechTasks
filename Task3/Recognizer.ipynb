{
 "cells": [
  {
   "cell_type": "code",
   "execution_count": 1,
   "metadata": {},
   "outputs": [],
   "source": [
    "from enum import Enum\n",
    "from typing import NamedTuple\n",
    "\n",
    "import cv2\n",
    "import matplotlib\n",
    "import matplotlib.pyplot as plt\n",
    "import numpy as np\n",
    "import pytesseract\n",
    "from pyaspeller import YandexSpeller\n",
    "from spellchecker import SpellChecker\n",
    "\n",
    "plt.rcParams[\"figure.figsize\"] = (10, 7)\n",
    "plt.rcParams['figure.subplot.left'] = 0.1\n",
    "plt.rcParams['figure.subplot.right'] = 0.99\n",
    "plt.rcParams['figure.subplot.top'] = 0.97\n",
    "plt.rcParams['figure.subplot.bottom'] = 0.05\n",
    "plt.rcParams['figure.subplot.hspace'] = 0.3\n",
    "matplotlib.rc(\"image\", cmap=\"gray_r\")"
   ]
  },
  {
   "cell_type": "markdown",
   "metadata": {},
   "source": [
    "# Prepare image\n",
    "Загрузка, подготовка изображения для распознавания"
   ]
  },
  {
   "cell_type": "code",
   "execution_count": 3,
   "metadata": {},
   "outputs": [],
   "source": [
    "# choose tool for show image\n",
    "\n",
    "# Comment it if not use it\n",
    "%matplotlib qt\n",
    "\n",
    "\n",
    "class ShowTool(Enum):\n",
    "    cv2= 'cv2'\n",
    "    plt='plt'\n",
    "\n",
    "SHOW_STYLE = ShowTool.plt"
   ]
  },
  {
   "cell_type": "code",
   "execution_count": 4,
   "metadata": {},
   "outputs": [],
   "source": [
    "match SHOW_STYLE:\n",
    "    case ShowTool.plt:\n",
    "\n",
    "        def show(image: np.ndarray, y_size: int = 960):\n",
    "            \"\"\"\n",
    "            Show image in cv2 window\n",
    "\n",
    "            :param image: Image to show\n",
    "            :param y_size: Window scaler, defaults to 960\n",
    "            \"\"\"\n",
    "            plt.imshow(image)\n",
    "\n",
    "    case ShowTool.cv2:\n",
    "\n",
    "        def show(image: np.ndarray, y_size: int = 960):\n",
    "            \"\"\"\n",
    "            Show image in cv2 window\n",
    "\n",
    "            :param image: Image to show\n",
    "            :param y_size: Window scaler, defaults to 960\n",
    "            \"\"\"\n",
    "\n",
    "            dy, dx = image.shape[:2]\n",
    "            size = (int(dx * y_size / dy), y_size)\n",
    "\n",
    "            cv2.imshow('contours', cv2.resize(image, size))\n",
    "            cv2.resizeWindow('contours', *size)\n",
    "            cv2.waitKey()"
   ]
  },
  {
   "cell_type": "markdown",
   "metadata": {},
   "source": [
    "## Load\n",
    "Загружаем изображение и проверяем, правильное ли мы выбрали"
   ]
  },
  {
   "cell_type": "code",
   "execution_count": 314,
   "metadata": {},
   "outputs": [],
   "source": [
    "img_real = cv2.imread(r\"Data\\2.jpg\")\n",
    "y, x, _ = img_real.shape\n",
    "show(img_real)"
   ]
  },
  {
   "cell_type": "markdown",
   "metadata": {},
   "source": [
    "## Align\n",
    "Выравниваем (насколько возможно) изображение"
   ]
  },
  {
   "cell_type": "code",
   "execution_count": 271,
   "metadata": {},
   "outputs": [],
   "source": [
    "def downscale_image(image: np.ndarray, max_size: int = 1920) -> np.ndarray:\n",
    "    \"\"\"\n",
    "    Downscale image\n",
    "\n",
    "    :param image: Input image\n",
    "    :param max_size: Max size, defaults to 2048\n",
    "    :return: Downsized image\n",
    "    \"\"\"\n",
    "\n",
    "    scale = max_size / max(image.shape)\n",
    "    return cv2.resize(image, None, fx=scale, fy=scale, interpolation=cv2.INTER_CUBIC)\n",
    "\n",
    "\n",
    "def make_square(image: np.ndarray) -> np.ndarray:\n",
    "    \"\"\"\n",
    "    Make square from image to rotate it without a border cropping\n",
    "\n",
    "    :param image: Supplemented image to square\n",
    "    :return: Image\n",
    "    \"\"\"\n",
    "    y, x = image.shape[:2]\n",
    "    max_side = max(y, x)\n",
    "\n",
    "    dy = max_side - y\n",
    "    dx = max_side - x\n",
    "\n",
    "    top = dy // 2\n",
    "    bottom = dy - top\n",
    "    left = dx // 2\n",
    "    right = dx - left\n",
    "    return cv2.copyMakeBorder(image, top, bottom, left, right, cv2.BORDER_CONSTANT, value=[0, 0, 0])\n",
    "\n",
    "\n",
    "def align(image: np.ndarray, tol: float = 5) -> np.ndarray:\n",
    "    \"\"\"\n",
    "    Align image\n",
    "\n",
    "    :param image: Image to align\n",
    "    :param tol: Allowable angle deviation, defaults to 5\n",
    "    :return: Aligned image\n",
    "    \"\"\"\n",
    "    image_processed = cv2.Canny(image, 100, 200)\n",
    "    kernel = cv2.getStructuringElement(cv2.MORPH_RECT, (5, 5))\n",
    "    image_processed = cv2.dilate(image_processed, kernel, iterations=2)\n",
    "\n",
    "    non_zero_coordinates = cv2.findNonZero(image_processed)\n",
    "    box = cv2.minAreaRect(non_zero_coordinates)\n",
    "    angle = box[2]\n",
    "\n",
    "    if (-tol < angle < tol) or (90 - tol < angle < 90 + tol) or (angle < -90 + tol):\n",
    "        return image\n",
    "\n",
    "    y, x = image.shape\n",
    "    rotate_M = cv2.getRotationMatrix2D((x // 2, y // 2), angle, 1)\n",
    "    return cv2.warpAffine(\n",
    "        image.copy(),\n",
    "        rotate_M,\n",
    "        (int(x), int(y)),\n",
    "        cv2.INTER_CUBIC,\n",
    "        cv2.BORDER_REPLICATE,\n",
    "    )"
   ]
  },
  {
   "cell_type": "code",
   "execution_count": 315,
   "metadata": {},
   "outputs": [],
   "source": [
    "img_gray = cv2.cvtColor(img_real, cv2.COLOR_BGR2GRAY)\n",
    "img_gray = cv2.threshold(img_gray, 0, 255, cv2.THRESH_BINARY_INV | cv2.THRESH_OTSU)[1]\n",
    "img_gray = downscale_image(img_gray)\n",
    "\n",
    "# Add little borders to emphasize black spaces on borders\n",
    "border_add = 10\n",
    "img_gray = cv2.copyMakeBorder(\n",
    "    img_gray,\n",
    "    border_add,\n",
    "    border_add,\n",
    "    border_add,\n",
    "    border_add,\n",
    "    cv2.BORDER_CONSTANT,\n",
    "    value=[0, 0, 0],\n",
    ")\n",
    "img_gray = make_square(img_gray)\n",
    "show(img_gray)"
   ]
  },
  {
   "cell_type": "markdown",
   "metadata": {},
   "source": [
    "# Clasterization\n",
    "Находим области с текстом о объединяем эти области в кластеры - абзацы для сохранения порядка слов при распознавания и исключения разрывов текста по середине абзаца."
   ]
  },
  {
   "cell_type": "markdown",
   "metadata": {},
   "source": [
    "Находим границы объектов, чтобы не включать области у краев, шум и тд. Размываем изображение гауссовским ядром и применяем расширение для образования связанных блоков текста, формируя маску для каждого блока текста. \n",
    "\n",
    "Главная проблема найти середину: соединить нужные абзацы - разделить большие блоки. Найти лучшее количесство расширений изображения можно по скорости уменьшения количества соединенных областей. Для этого несколько раз применяем `cv2.dilate` и находим минимум производной для значений `cv2.connectedComponents`<20 (чтобы отсечь начальное слияние маленьких квадратов в блоки), таким образом найдем точку перед которой произошло критическое уменьшение количества блоков - возможно слияние больших блоков между собой"
   ]
  },
  {
   "cell_type": "code",
   "execution_count": 316,
   "metadata": {},
   "outputs": [],
   "source": [
    "def split(image: np.ndarray) -> dict[int, np.ndarray]:\n",
    "    \"\"\"\n",
    "    Split image to connected blocks\n",
    "\n",
    "    :param image: Image to split\n",
    "    \"\"\"\n",
    "    bordered_image = cv2.Canny(image, 100, 200)\n",
    "    blur_kernel = (9, 9)\n",
    "    blur_image = cv2.GaussianBlur(bordered_image, blur_kernel, 2)\n",
    "\n",
    "    kernel = cv2.getStructuringElement(cv2.MORPH_RECT, (3, 3))\n",
    "\n",
    "    quality = [100]\n",
    "    dilated_image = blur_image.copy()\n",
    "    while quality[-1] > 10:\n",
    "        dilated_image = cv2.dilate(dilated_image, kernel)\n",
    "        quality.append(cv2.connectedComponents(dilated_image)[0])\n",
    "\n",
    "    start_quality = list(filter(lambda x: x < 20, quality))[0]\n",
    "    start_i = quality.index(start_quality)\n",
    "\n",
    "    quality_D = list(np.diff(quality[start_i:]))\n",
    "    best_reduction_D = min(quality_D)\n",
    "    best_iteration = start_i + quality_D.index(best_reduction_D) + 1\n",
    "\n",
    "    dilated_image = cv2.dilate(blur_image, kernel, iterations=best_iteration)\n",
    "    n_rectangles, segmented_mask = cv2.connectedComponents(dilated_image)\n",
    "    cluster_list = [np.uint8(segmented_mask == i) * i for i in range(1, n_rectangles + 1)]\n",
    "    return dict(\n",
    "        [\n",
    "            (np.max(mask), mask)\n",
    "            for mask in sorted(cluster_list, key=lambda i: np.count_nonzero(i), reverse=True)\n",
    "        ]\n",
    "    )\n",
    "\n",
    "\n",
    "def split_test(image: np.ndarray, max_n=30) -> dict[int, np.ndarray]:\n",
    "    \"\"\"\n",
    "    Split image to connected blocks\n",
    "\n",
    "    :param image: Image to split\n",
    "    \"\"\"\n",
    "    bordered_image = cv2.Canny(image, 100, 200)\n",
    "    blur_kernel = (9, 9)\n",
    "    blur_image = cv2.GaussianBlur(bordered_image, blur_kernel, 2)\n",
    "\n",
    "    kernel = cv2.getStructuringElement(cv2.MORPH_RECT, (3, 3))\n",
    "    quality = []\n",
    "    dilated_image = blur_image.copy()\n",
    "    for i in range(max_n):\n",
    "        dilated_image = cv2.dilate(dilated_image, kernel)\n",
    "        quality.append(cv2.connectedComponents(dilated_image)[0])\n",
    "    return quality"
   ]
  },
  {
   "cell_type": "code",
   "execution_count": 317,
   "metadata": {},
   "outputs": [],
   "source": [
    "clusters = split(img_gray)\n",
    "show(sum(list(clusters.values())))"
   ]
  },
  {
   "cell_type": "markdown",
   "metadata": {},
   "source": [
    "Вид функции количества областей от степени расширения:"
   ]
  },
  {
   "cell_type": "code",
   "execution_count": 311,
   "metadata": {},
   "outputs": [
    {
     "data": {
      "text/plain": [
       "[<matplotlib.lines.Line2D at 0x2170729a950>]"
      ]
     },
     "execution_count": 311,
     "metadata": {},
     "output_type": "execute_result"
    }
   ],
   "source": [
    "res = np.array(split_test(img_gray))\n",
    "plt.plot(res)\n",
    "plt.twinx().plot(np.diff(res),c='r')"
   ]
  },
  {
   "cell_type": "markdown",
   "metadata": {},
   "source": [
    "# Recognize\n",
    "Распознаем текст на изображении и проверяем правильность написания"
   ]
  },
  {
   "cell_type": "code",
   "execution_count": 320,
   "metadata": {},
   "outputs": [],
   "source": [
    "class RecognizeResult(NamedTuple):\n",
    "    text: str\n",
    "    # angle: int\n",
    "    x: int\n",
    "    y: int\n",
    "    dx: int\n",
    "    dy: int\n",
    "\n",
    "\n",
    "speller = YandexSpeller(lang=['ru'])\n",
    "text_blocks = []\n",
    "\n",
    "test = []\n",
    "for cluster in clusters.values():\n",
    "    image_block = cv2.bitwise_and(img_gray, img_gray, mask=cluster)\n",
    "    non_zero_coords = cv2.findNonZero(image_block)\n",
    "    x, y, dx, dy = cv2.boundingRect(non_zero_coords)\n",
    "    if dx * dy == 0 or np.count_nonzero(image_block) < 50:\n",
    "        continue\n",
    "    image_cropped = image_block[y : y + dy, x : x + dx]\n",
    "\n",
    "    image_aligned = make_square(image_cropped)\n",
    "    test.append(image_aligned)\n",
    "\n",
    "    text = pytesseract.image_to_string(\n",
    "        image_aligned,\n",
    "        lang='rus',\n",
    "        config='--psm 3',\n",
    "    )\n",
    "    text = speller.spelled(text)\n",
    "\n",
    "    if len(text):\n",
    "        text_blocks.append(RecognizeResult(text, x, y, dx, dy))"
   ]
  },
  {
   "cell_type": "code",
   "execution_count": 323,
   "metadata": {},
   "outputs": [
    {
     "name": "stdout",
     "output_type": "stream",
     "text": [
      "ЕВРОГРУП\n",
      " Общество с ограниченной ответственностью\n",
      "«Торговая Компания «ЕвроГруп»\n",
      "\n",
      "''603053. с-Н.Новгород, ул, Борская, д.17, ИННЛКПП5256128400\\525601901,\n",
      "ОГРН114$256002451, ОКПО92320408, ОАО «НЕД-Банк» г. Н. Новгород, БИК042202705,\n",
      "Расчетный счет40702810901050922597, Корр/счет 30101$10400000000705,\n",
      "\n",
      "Е-тай; очговтирб2 @ай ту Телефон/факс: 8 ($31) 253.98-60.253-37-91\n",
      " ООО«СтрейЮрист»\n",
      " мая 2015 г.\n",
      " № 364 от « 2$»\n",
      " ОТЗЫВ\n",
      " В Стройюристе мы оформляли сертификат 15О 9001 для участия в\n",
      "тендере. Нас сразу привлекла стоимость в 19 тысяч рублей. И срочность\n",
      "оформления серткфиката, так как сроки у нас «горели». По телефону\n",
      "получили грамотную консультацию по 150 и ская документа был у нас в\n",
      "этот же день. В результате тендер мы выиграли и успешно работаем.\n",
      "Спасибо Стройюрист, за качественную работу!\n",
      " С уважением,\n",
      "Директор\n",
      "СО0 «ТК Еврогруп»:\n",
      "\n",
      " Белов Е.А.\n",
      "\n"
     ]
    }
   ],
   "source": [
    "print(' '.join([i.text for i in sorted(text_blocks, key=lambda f: f.y)]))"
   ]
  }
 ],
 "metadata": {
  "kernelspec": {
   "display_name": "Agat_env",
   "language": "python",
   "name": "python3"
  },
  "language_info": {
   "codemirror_mode": {
    "name": "ipython",
    "version": 3
   },
   "file_extension": ".py",
   "mimetype": "text/x-python",
   "name": "python",
   "nbconvert_exporter": "python",
   "pygments_lexer": "ipython3",
   "version": "3.10.11"
  }
 },
 "nbformat": 4,
 "nbformat_minor": 2
}
