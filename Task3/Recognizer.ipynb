{
 "cells": [
  {
   "cell_type": "code",
   "execution_count": 1,
   "metadata": {},
   "outputs": [],
   "source": [
    "from enum import Enum\n",
    "from typing import NamedTuple\n",
    "\n",
    "import cv2\n",
    "import matplotlib\n",
    "import matplotlib.pyplot as plt\n",
    "import numpy as np\n",
    "import pytesseract\n",
    "from pyaspeller import YandexSpeller\n",
    "\n",
    "plt.rcParams[\"figure.figsize\"] = (10, 7)\n",
    "plt.rcParams['figure.subplot.left'] = 0.1\n",
    "plt.rcParams['figure.subplot.right'] = 0.99\n",
    "plt.rcParams['figure.subplot.top'] = 0.97\n",
    "plt.rcParams['figure.subplot.bottom'] = 0.05\n",
    "plt.rcParams['figure.subplot.hspace'] = 0.3\n",
    "matplotlib.rc(\"image\", cmap=\"gray_r\")"
   ]
  },
  {
   "cell_type": "markdown",
   "metadata": {},
   "source": [
    "# Prepare image\n",
    "Загрузка, подготовка изображения для распознавания"
   ]
  },
  {
   "cell_type": "code",
   "execution_count": 3,
   "metadata": {},
   "outputs": [],
   "source": [
    "# choose tool for show image\n",
    "\n",
    "# Comment it if not use it\n",
    "%matplotlib qt\n",
    "\n",
    "\n",
    "class ShowTool(Enum):\n",
    "    cv2= 'cv2'\n",
    "    plt='plt'\n",
    "\n",
    "SHOW_STYLE = ShowTool.plt"
   ]
  },
  {
   "cell_type": "code",
   "execution_count": 4,
   "metadata": {},
   "outputs": [],
   "source": [
    "match SHOW_STYLE:\n",
    "    case ShowTool.plt:\n",
    "\n",
    "        def show(image: np.ndarray, y_size: int = 960):\n",
    "            \"\"\"\n",
    "            Show image in cv2 window\n",
    "\n",
    "            :param image: Image to show\n",
    "            :param y_size: Window scaler, defaults to 960\n",
    "            \"\"\"\n",
    "            plt.imshow(image)\n",
    "\n",
    "    case ShowTool.cv2:\n",
    "\n",
    "        def show(image: np.ndarray, y_size: int = 960):\n",
    "            \"\"\"\n",
    "            Show image in cv2 window\n",
    "\n",
    "            :param image: Image to show\n",
    "            :param y_size: Window scaler, defaults to 960\n",
    "            \"\"\"\n",
    "\n",
    "            dy, dx = image.shape[:2]\n",
    "            size = (int(dx * y_size / dy), y_size)\n",
    "\n",
    "            cv2.imshow('contours', cv2.resize(image, size))\n",
    "            cv2.resizeWindow('contours', *size)\n",
    "            cv2.waitKey()"
   ]
  },
  {
   "cell_type": "markdown",
   "metadata": {},
   "source": [
    "## Load\n",
    "Загружаем изображение и проверяем, правильное ли мы выбрали"
   ]
  },
  {
   "cell_type": "code",
   "execution_count": 56,
   "metadata": {},
   "outputs": [],
   "source": [
    "img_real = cv2.imread(r\"Data\\3.jpg\")\n",
    "y, x, _ = img_real.shape\n",
    "show(img_real)"
   ]
  },
  {
   "cell_type": "markdown",
   "metadata": {},
   "source": [
    "## Align\n",
    "Выравниваем (насколько возможно) изображение"
   ]
  },
  {
   "cell_type": "code",
   "execution_count": 11,
   "metadata": {},
   "outputs": [],
   "source": [
    "def downscale_image(image: np.ndarray, max_size: int = 1920) -> np.ndarray:\n",
    "    \"\"\"\n",
    "    Downscale image\n",
    "\n",
    "    :param image: Input image\n",
    "    :param max_size: Max size, defaults to 2048\n",
    "    :return: Downsized image\n",
    "    \"\"\"\n",
    "\n",
    "    # if max_size <= max_size:\n",
    "    #     return image\n",
    "\n",
    "    scale = max_size / max(image.shape)\n",
    "    return cv2.resize(image, None, fx=scale, fy=scale, interpolation=cv2.INTER_CUBIC)\n",
    "\n",
    "\n",
    "def make_square(image: np.ndarray) -> np.ndarray:\n",
    "    \"\"\"\n",
    "    Make square from image to rotate it without a border cropping\n",
    "\n",
    "    :param image: Supplemented image to square\n",
    "    :return: Image\n",
    "    \"\"\"\n",
    "    y, x = image.shape[:2]\n",
    "    max_side = max(y, x)\n",
    "\n",
    "    dy = max_side - y\n",
    "    dx = max_side - x\n",
    "\n",
    "    top = dy // 2\n",
    "    bottom = dy - top\n",
    "    left = dx // 2\n",
    "    right = dx - left\n",
    "    return cv2.copyMakeBorder(image, top, bottom, left, right, cv2.BORDER_CONSTANT, value=[0, 0, 0])\n",
    "\n",
    "\n",
    "def align(image: np.ndarray, tol: float = 5) -> np.ndarray:\n",
    "    \"\"\"\n",
    "    Align image\n",
    "\n",
    "    :param image: Image to align\n",
    "    :param tol: Allowable angle deviation, defaults to 5\n",
    "    :return: Aligned image\n",
    "    \"\"\"\n",
    "    image_processed = cv2.Canny(image, 100, 200)\n",
    "    kernel = cv2.getStructuringElement(cv2.MORPH_RECT, (5, 5))\n",
    "    image_processed = cv2.dilate(image_processed, kernel, iterations=2)\n",
    "\n",
    "    non_zero_coordinates = cv2.findNonZero(image_processed)\n",
    "    box = cv2.minAreaRect(non_zero_coordinates)\n",
    "    (x, y), angle = box[1:]\n",
    "\n",
    "    if (-tol < angle < tol) or (90 - tol < angle < 90 + tol) or (angle < -90 + tol):\n",
    "        return image\n",
    "\n",
    "    # FIXME: choose right\n",
    "    # y, x = image.shape\n",
    "    rotate_M = cv2.getRotationMatrix2D((x // 2, y // 2), angle, 1)\n",
    "    return cv2.warpAffine(\n",
    "        image.copy(),\n",
    "        rotate_M,\n",
    "        (int(x), int(y)),\n",
    "        cv2.INTER_CUBIC,\n",
    "        cv2.BORDER_REPLICATE,\n",
    "    )"
   ]
  },
  {
   "cell_type": "code",
   "execution_count": 57,
   "metadata": {},
   "outputs": [],
   "source": [
    "img_gray = cv2.cvtColor(img_real, cv2.COLOR_BGR2GRAY)\n",
    "img_gray = cv2.threshold(img_gray, 0, 255, cv2.THRESH_BINARY_INV | cv2.THRESH_OTSU)[1]\n",
    "img_gray = downscale_image(img_gray)\n",
    "\n",
    "# Add little borders to emphasize black spaces on borders\n",
    "border_add = 10\n",
    "img_gray = cv2.copyMakeBorder(\n",
    "    img_gray,\n",
    "    border_add,\n",
    "    border_add,\n",
    "    border_add,\n",
    "    border_add,\n",
    "    cv2.BORDER_CONSTANT,\n",
    "    value=[0, 0, 0],\n",
    ")\n",
    "img_gray = make_square(img_gray)\n",
    "show(img_gray)"
   ]
  },
  {
   "cell_type": "markdown",
   "metadata": {},
   "source": [
    "# Clasterization\n",
    "Находим области с текстом о объединяем эти области в кластеры - абзацы для сохранения порядка слов при распознавания и исключения разрывов текста по середине абзаца."
   ]
  },
  {
   "cell_type": "markdown",
   "metadata": {},
   "source": [
    "Находим границы объектов, чтобы не включать области у краев, шум и тд. Размываем изображение гауссовским ядром и применяем расширение для образования связанных блоков текста, формируя маску для каждого блока текста "
   ]
  },
  {
   "cell_type": "code",
   "execution_count": 58,
   "metadata": {},
   "outputs": [],
   "source": [
    "def prepare_image(image: np.ndarray) -> np.ndarray:\n",
    "    \"\"\"Prepare image to clustering\"\"\"\n",
    "\n",
    "    bordered_image = cv2.Canny(image, 100, 200)\n",
    "    blur_kernel = (9, 9)\n",
    "    blur_image = cv2.GaussianBlur(bordered_image, blur_kernel, 2)\n",
    "\n",
    "    kernel = cv2.getStructuringElement(cv2.MORPH_RECT, (3, 3))\n",
    "    dilate_image = cv2.dilate(blur_image, kernel, iterations=10)\n",
    "    return dilate_image\n",
    "\n",
    "\n",
    "def split(image: np.ndarray)-> dict[int, np.ndarray]:\n",
    "    \"\"\"\n",
    "    Split image to connected blocks\n",
    "\n",
    "    :param image: _description_\n",
    "    \"\"\"\n",
    "    n_rectangles, segmented_mask = cv2.connectedComponents(image)\n",
    "    cluster_list = [np.uint8(segmented_mask == i) * i for i in range(1, n_rectangles + 1)]\n",
    "    return dict(\n",
    "        [\n",
    "            (np.max(mask), mask)\n",
    "            for mask in sorted(cluster_list, key=lambda i: np.count_nonzero(i), reverse=True)\n",
    "        ]\n",
    "    )"
   ]
  },
  {
   "cell_type": "code",
   "execution_count": 59,
   "metadata": {},
   "outputs": [],
   "source": [
    "prep_image = prepare_image(img_gray)"
   ]
  },
  {
   "cell_type": "code",
   "execution_count": 60,
   "metadata": {},
   "outputs": [],
   "source": [
    "a=split(prep_image)"
   ]
  },
  {
   "cell_type": "code",
   "execution_count": 61,
   "metadata": {},
   "outputs": [],
   "source": [
    "show(sum(list(a.values())))"
   ]
  },
  {
   "cell_type": "markdown",
   "metadata": {},
   "source": [
    "# Recognize\n",
    "Распознаем текст на изображении и проверяем правильности написания"
   ]
  },
  {
   "cell_type": "code",
   "execution_count": 33,
   "metadata": {},
   "outputs": [],
   "source": [
    "speller = YandexSpeller()\n",
    "\n",
    "for split in clusters:\n"
   ]
  },
  {
   "cell_type": "code",
   "execution_count": 31,
   "metadata": {},
   "outputs": [],
   "source": [
    "a= AttentionArea(segmented_mask=img_gray,focus_image=clusters[1])\n",
    "img_cropped = img_gray[a.focus_box.y0:a.focus_box.y1,a.focus_box.x0:a.focus_box.x1]"
   ]
  },
  {
   "cell_type": "code",
   "execution_count": 48,
   "metadata": {},
   "outputs": [
    {
     "name": "stdout",
     "output_type": "stream",
     "text": [
      "В Строй Орнсте мы оформлялн сертификат 150 9001 для участия в\n",
      "тендере. Нас сразу привлекла стоямость в 19 тысяч рублей. И срочность:\n",
      "оформлекия сертификата, так как срохи у нас «горели». По телефону:\n",
      "получили грамотную консультецк по 15 и скан документа был у нас в\n",
      "ээтот же день. В результате тендер мы вынграли и успешно работзем.\n",
      "Спасибо СтройЮрнст, за качественную работу!\n",
      "\n",
      "**************************************************\n",
      "В Строй Орнсте мы оформляли сертификат 150 9001 для участия в\n",
      "тендере. Нас сразу привлекла стоимость в 19 тысяч рублей. И срочность:\n",
      "оформлекия сертификата, так как срохи у нас «горели». По телефону:\n",
      "получили грамотную консультацию по 15 и скан документа был у нас в\n",
      "этот же день. В результате тендер мы выиграли и успешно работаем.\n",
      "Спасибо Стройюрист, за качественную работу!\n",
      "\n"
     ]
    }
   ],
   "source": [
    "# img_cropped = cv2.bitwise_and(img_gray, img_gray, mask=clasters[1])\n",
    "plt.imshow(align(img_cropped),tol=)\n",
    "text = pytesseract.image_to_string(\n",
    "    align2(img_cropped),\n",
    "    lang='rus',\n",
    "    config='--psm 3',\n",
    ")\n",
    "print(text)\n",
    "print('*' * 50)\n",
    "print(speller.spelled(text))"
   ]
  },
  {
   "cell_type": "code",
   "execution_count": 53,
   "metadata": {},
   "outputs": [],
   "source": [
    "class RecognizeResult(NamedTuple):\n",
    "    text: str\n",
    "    angle: int\n",
    "    x: int\n",
    "    y: int\n",
    "    dx: int\n",
    "    dy: int\n",
    "\n",
    "\n",
    "res = []\n",
    "for img_mask in clusters:\n",
    "\n",
    "    img_cropped = cv2.bitwise_and(img_gray, img_gray, mask=img_mask)\n",
    "    non_zero_coords = cv2.findNonZero(img_mask)\n",
    "    box_cordinates = cv2.boundingRect(non_zero_coords)\n",
    "\n",
    "    # plt.imshow(img_cropped)\n",
    "\n",
    "    for angle in [0, -90, 90, 180]:\n",
    "        text = pytesseract.image_to_string(img_cropped, lang='rus', config='--psm 3')\n",
    "        text = speller.spelled(text)\n",
    "        is_correct = len(text)>0\n",
    "        text = text + '\\n'\n",
    "        if len(text) and is_correct:\n",
    "            res.append(RecognizeResult(text, angle, *box_cordinates))\n",
    "            break"
   ]
  },
  {
   "cell_type": "code",
   "execution_count": 54,
   "metadata": {},
   "outputs": [],
   "source": [
    "angles = [i.angle for i in res]\n",
    "general_angle = max(set(angles), key=angles.count)\n",
    "slope = 2\n",
    "metric = {\n",
    "    0: lambda f: f. x + slope * f.y,\n",
    "    -90: lambda f: slope * f.x - (f.y + f.dy),\n",
    "    90: lambda f: -slope * (f.x + f.dx) + f.y,\n",
    "    180: lambda f: -(f.x + f.dx) - slope * (f.y + f.dy),\n",
    "}[general_angle]"
   ]
  },
  {
   "cell_type": "code",
   "execution_count": 55,
   "metadata": {},
   "outputs": [
    {
     "name": "stdout",
     "output_type": "stream",
     "text": [
      "Еврогрупп Общество с ограниченной ответственностью.\n",
      "\n",
      "«Торговая Компания «ЕвроГруп»\n",
      "ол сковороду Борская 17 ИННЛЕТИБ259 ООЧ2960\n",
      "огтниАЗеря , ОКЛОРРУНЕ ЛО «НБД-Банко г.Н- Новгороя,БИКОИ2202705\n",
      "озн за ЧООО ОО 050022557 Корусченуо 1014 О.00ООДООС\n",
      "\"Б-тай: счгостир$2@упай пуТелефонифанс: $ (831) 253-98-60,253-37-91\n",
      "\n",
      " № 364 от « 28» мая 2015 г\n",
      "\n",
      " ©ОО«СтройЮрист»\n",
      "\n",
      " В Строй!Орнсте мы оформляли сертификат 15О 9001 для участия в\n",
      "тендере. Нас сразу привлекла стоимость в 19 тысяч рублей. И прочность\n",
      "‘оформяения сертнфиката, та как срокн у нас «горелн». ЛЮ телефону\n",
      "получили грамотную консультацию по Т5 и ская документа был у ас в\n",
      "‘этот же день, В результате тендер мы выиграли н успещно работаем.\n",
      "Спасибо СтройЮрнся, за качественную работу?\n",
      "\n",
      "\n",
      " отзыВ\n",
      "\n",
      " С уважением,\n",
      "Директор.\n",
      "\n",
      "©0О «ТК Еврогру Белов Е.А\n",
      "\n",
      "\n",
      "\n"
     ]
    }
   ],
   "source": [
    "print(' '.join([i.text for i in sorted(res, key=metric)]))"
   ]
  },
  {
   "cell_type": "code",
   "execution_count": 20,
   "metadata": {},
   "outputs": [
    {
     "data": {
      "text/plain": [
       "<matplotlib.image.AxesImage at 0x26c91141e10>"
      ]
     },
     "execution_count": 20,
     "metadata": {},
     "output_type": "execute_result"
    }
   ],
   "source": [
    "plt.imshow(img_gray)"
   ]
  }
 ],
 "metadata": {
  "kernelspec": {
   "display_name": "Agat_env",
   "language": "python",
   "name": "python3"
  },
  "language_info": {
   "codemirror_mode": {
    "name": "ipython",
    "version": 3
   },
   "file_extension": ".py",
   "mimetype": "text/x-python",
   "name": "python",
   "nbconvert_exporter": "python",
   "pygments_lexer": "ipython3",
   "version": "3.10.11"
  }
 },
 "nbformat": 4,
 "nbformat_minor": 2
}
