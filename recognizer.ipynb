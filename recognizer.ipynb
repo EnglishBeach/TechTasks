{
 "cells": [
  {
   "cell_type": "code",
   "execution_count": 1,
   "metadata": {},
   "outputs": [],
   "source": [
    "import cv2\n",
    "import matplotlib.pyplot as plt\n",
    "import numpy as np\n",
    "\n",
    "import matplotlib\n",
    "\n",
    "plt.rcParams[\"figure.figsize\"] = (10, 7)\n",
    "plt.rcParams['figure.subplot.left'] = 0.1\n",
    "plt.rcParams['figure.subplot.right'] = 0.99\n",
    "plt.rcParams['figure.subplot.top'] = 0.97\n",
    "plt.rcParams['figure.subplot.bottom'] = 0.05\n",
    "plt.rcParams['figure.subplot.hspace'] = 0.3\n",
    "matplotlib.rc(\"image\", cmap=\"gray_r\")"
   ]
  },
  {
   "cell_type": "code",
   "execution_count": 2,
   "metadata": {},
   "outputs": [],
   "source": [
    "%matplotlib qt"
   ]
  },
  {
   "cell_type": "code",
   "execution_count": 3,
   "metadata": {},
   "outputs": [
    {
     "data": {
      "text/plain": [
       "<matplotlib.image.AxesImage at 0x19764fef6d0>"
      ]
     },
     "execution_count": 3,
     "metadata": {},
     "output_type": "execute_result"
    }
   ],
   "source": [
    "real_image= cv2.imread(\n",
    "r\"D:\\WORKS\\TechTasks\\DocData\\2.jpg\"\n",
    ")\n",
    "plt.imshow(real_image)"
   ]
  },
  {
   "cell_type": "markdown",
   "metadata": {},
   "source": [
    "# Prepare"
   ]
  },
  {
   "cell_type": "code",
   "execution_count": 4,
   "metadata": {},
   "outputs": [
    {
     "data": {
      "text/plain": [
       "<matplotlib.image.AxesImage at 0x197680d4970>"
      ]
     },
     "execution_count": 4,
     "metadata": {},
     "output_type": "execute_result"
    }
   ],
   "source": [
    "gray_image = cv2.cvtColor(real_image, cv2.COLOR_BGR2GRAY)\n",
    "gray_image = cv2.threshold(gray_image, 0, 255, cv2.THRESH_BINARY_INV | cv2.THRESH_OTSU)[1]\n",
    "plt.imshow(gray_image)"
   ]
  },
  {
   "cell_type": "code",
   "execution_count": 5,
   "metadata": {},
   "outputs": [
    {
     "data": {
      "text/plain": [
       "<matplotlib.image.AxesImage at 0x19765d7b9d0>"
      ]
     },
     "execution_count": 5,
     "metadata": {},
     "output_type": "execute_result"
    }
   ],
   "source": [
    "def downscale_image(image, max_size=2048):\n",
    "    \"\"\"Shrink im until its longest dimension is <= max_dim.\n",
    "\n",
    "    Returns new_image, scale (where scale <= 1).\n",
    "    \"\"\"\n",
    "\n",
    "    x, y = image.shape\n",
    "    max_dimention = max(x, y)\n",
    "    if max_dimention <= max_size:\n",
    "        return image\n",
    "\n",
    "    scale = max_size / max_dimention\n",
    "    return cv2.resize(\n",
    "        image, None, fx= scale, fy= scale, interpolation=cv2.INTER_LINEAR\n",
    "    )\n",
    "\n",
    "\n",
    "gray_image = downscale_image(gray_image)\n",
    "plt.imshow(gray_image)"
   ]
  },
  {
   "cell_type": "markdown",
   "metadata": {},
   "source": [
    "# Find text boxes"
   ]
  },
  {
   "cell_type": "code",
   "execution_count": 6,
   "metadata": {},
   "outputs": [],
   "source": [
    "from scipy.ndimage import rank_filter\n",
    "from typing import NamedTuple"
   ]
  },
  {
   "cell_type": "code",
   "execution_count": 7,
   "metadata": {},
   "outputs": [],
   "source": [
    "class BlockTuple(NamedTuple):\n",
    "    i: int\n",
    "    power: int\n",
    "    mask: np.ndarray\n",
    "\n",
    "\n",
    "a = gray_image\n",
    "a = cv2.GaussianBlur(a, (5, 5), 5)\n",
    "a = cv2.Canny(a, 100, 200)\n",
    "a = rank_filter(a, rank=5, size=3)\n",
    "kernel = cv2.getStructuringElement(cv2.MORPH_RECT, (5, 5))\n",
    "n_rectangles = 1000\n",
    "while n_rectangles > 20:\n",
    "    a = cv2.dilate(a, kernel, iterations=1)\n",
    "    n_rectangles, block_map = cv2.connectedComponents(a)\n",
    "    n_rectangles -= 1"
   ]
  },
  {
   "cell_type": "code",
   "execution_count": 10,
   "metadata": {},
   "outputs": [
    {
     "name": "stdout",
     "output_type": "stream",
     "text": [
      "15\n"
     ]
    },
    {
     "data": {
      "text/plain": [
       "<matplotlib.image.AxesImage at 0x1977b099fc0>"
      ]
     },
     "execution_count": 10,
     "metadata": {},
     "output_type": "execute_result"
    }
   ],
   "source": [
    "ranged_blocks: list[BlockTuple] = sorted(\n",
    "    [\n",
    "        BlockTuple(\n",
    "            i,\n",
    "            np.count_nonzero((block_map == i) * 1),\n",
    "            np.uint8(block_map == i),\n",
    "        )\n",
    "        for i in range(1, n_rectangles)\n",
    "    ],\n",
    "    key=lambda x: x.power,\n",
    ")\n",
    "print(n_rectangles - 1)\n",
    "# a = cv2.dilate(a, kernel, iterations=5)\n",
    "plt.imshow(block_map)"
   ]
  },
  {
   "cell_type": "code",
   "execution_count": 11,
   "metadata": {},
   "outputs": [],
   "source": [
    "def eye_metric(mask, image):\n",
    "    non_zero_coords = cv2.findNonZero(mask)\n",
    "    x, y, dx, dy = cv2.boundingRect(non_zero_coords)\n",
    "\n",
    "    central_slice = slice(y, y + dy), slice(x, x + dx)\n",
    "    central = np.zeros_like(image)\n",
    "    central[central_slice] = image[central_slice]\n",
    "    central[central != 0] = 1\n",
    "\n",
    "    y_full, x_full = image.shape\n",
    "    y_border = y_full // 20\n",
    "    x_border = x_full // 20\n",
    "    periphery_slice = (\n",
    "        slice(y - y_border, y + y_border + dy),\n",
    "        slice(x - x_border, x + x_border + dx),\n",
    "    )\n",
    "    periphery = np.zeros_like(image)\n",
    "    periphery[periphery_slice] = image[periphery_slice]\n",
    "    periphery[periphery != 0] = 1\n",
    "\n",
    "    tp = np.count_nonzero(central)\n",
    "    fp = dx * dy - tp\n",
    "    fn = np.count_nonzero(periphery - central)\n",
    "\n",
    "    return 2 * tp / (2 * tp + fp + fn), central, periphery"
   ]
  },
  {
   "cell_type": "code",
   "execution_count": 196,
   "metadata": {},
   "outputs": [
    {
     "name": "stdout",
     "output_type": "stream",
     "text": [
      "0.16518012221792758\n"
     ]
    },
    {
     "data": {
      "text/plain": [
       "<matplotlib.image.AxesImage at 0x1942489f4f0>"
      ]
     },
     "execution_count": 196,
     "metadata": {},
     "output_type": "execute_result"
    }
   ],
   "source": [
    "paragraphs = []\n",
    "while len(ranged_blocks) > 4:\n",
    "    central = ranged_blocks.pop()\n",
    "    current = central.mask.copy()\n",
    "\n",
    "    watched_blocks = [block for block in ranged_blocks if block.i in set(np.unique(bord))]\n",
    "    periphery = current + sum([block.mask for block in watched_blocks])\n",
    "    m0, img, bord = eye_metric(current, block_map)\n",
    "\n",
    "    while len(watched_blocks) > 0:\n",
    "        add_block = watched_blocks.pop()\n",
    "        m, img, bord = eye_metric(current + add_block.mask, block_map)\n",
    "        if m >= m0 * 0.9:\n",
    "            m0 = m\n",
    "            current += add_block.mask\n",
    "            ranged_blocks.remove(add_block)\n",
    "\n",
    "    paragraphs.append(current)\n",
    "\n",
    "print(m)\n",
    "plt.imshow(current)"
   ]
  },
  {
   "cell_type": "code",
   "execution_count": null,
   "metadata": {},
   "outputs": [],
   "source": [
    "current\n",
    "m, img, bord = eye_metric(current + add_block.mask, block_map)\n",
    "plt.imshow(img * 10 + bord)"
   ]
  },
  {
   "cell_type": "code",
   "execution_count": 197,
   "metadata": {},
   "outputs": [
    {
     "data": {
      "text/plain": [
       "<matplotlib.image.AxesImage at 0x1941f5f1210>"
      ]
     },
     "execution_count": 197,
     "metadata": {},
     "output_type": "execute_result"
    }
   ],
   "source": [
    "plt.imshow(sum([i*np.count_nonzero(i) for i in paragraphs]))"
   ]
  },
  {
   "cell_type": "code",
   "execution_count": 193,
   "metadata": {},
   "outputs": [
    {
     "data": {
      "text/plain": [
       "<matplotlib.image.AxesImage at 0x194208b2320>"
      ]
     },
     "execution_count": 193,
     "metadata": {},
     "output_type": "execute_result"
    }
   ],
   "source": [
    "plt.imshow(real_image)"
   ]
  },
  {
   "cell_type": "code",
   "execution_count": null,
   "metadata": {},
   "outputs": [],
   "source": [
    "def get_min_area_rect(image):\n",
    "    non_zero_coords = cv2.findNonZero(image)\n",
    "    return cv2.minAreaRect(non_zero_coords)\n"
   ]
  }
 ],
 "metadata": {
  "kernelspec": {
   "display_name": "Agat_env",
   "language": "python",
   "name": "python3"
  },
  "language_info": {
   "codemirror_mode": {
    "name": "ipython",
    "version": 3
   },
   "file_extension": ".py",
   "mimetype": "text/x-python",
   "name": "python",
   "nbconvert_exporter": "python",
   "pygments_lexer": "ipython3",
   "version": "3.10.11"
  }
 },
 "nbformat": 4,
 "nbformat_minor": 2
}
